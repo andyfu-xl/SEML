{
 "cells": [
  {
   "cell_type": "code",
   "execution_count": 16,
   "metadata": {},
   "outputs": [
    {
     "name": "stdout",
     "output_type": "stream",
     "text": [
      "Connected to MySQL server\n",
      "MySQL Server version: 8.3.0\n",
      "MySQL connection closed\n"
     ]
    }
   ],
   "source": [
    "import mysql.connector\n",
    "# docker run --name mysql-server -e MYSQL_ROOT_PASSWORD=password -p 3306:3306 -d mysql:latest\n",
    "\n",
    "# Connect to MySQL server\n",
    "try:\n",
    "    connection = mysql.connector.connect(\n",
    "        host='localhost',\n",
    "        port='3306',\n",
    "        user='root',\n",
    "        password='password',\n",
    "        database='mysql'\n",
    "    )\n",
    "\n",
    "    if connection.is_connected():\n",
    "        print('Connected to MySQL server')\n",
    "\n",
    "        # Execute SQL query\n",
    "        cursor = connection.cursor()\n",
    "        cursor.execute('SELECT version()')\n",
    "        db_version = cursor.fetchone()\n",
    "        print('MySQL Server version:', db_version[0])\n",
    "\n",
    "except mysql.connector.Error as e:\n",
    "    print('Error connecting to MySQL server:', e)\n",
    "\n",
    "finally:\n",
    "    # Close the connection\n",
    "    if 'connection' in locals() and connection.is_connected():\n",
    "        cursor.close()\n",
    "        connection.close()\n",
    "        print('MySQL connection closed')\n",
    "\n"
   ]
  },
  {
   "cell_type": "code",
   "execution_count": null,
   "metadata": {},
   "outputs": [],
   "source": []
  }
 ],
 "metadata": {
  "kernelspec": {
   "display_name": "seml3",
   "language": "python",
   "name": "python3"
  },
  "language_info": {
   "codemirror_mode": {
    "name": "ipython",
    "version": 3
   },
   "file_extension": ".py",
   "mimetype": "text/x-python",
   "name": "python",
   "nbconvert_exporter": "python",
   "pygments_lexer": "ipython3",
   "version": "3.10.12"
  }
 },
 "nbformat": 4,
 "nbformat_minor": 2
}
